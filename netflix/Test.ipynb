{
 "cells": [
  {
   "cell_type": "code",
   "execution_count": 1,
   "metadata": {},
   "outputs": [],
   "source": [
    "import numpy as np\n",
    "import matplotlib.pylab as plt\n",
    "import scipy.stats as stat\n",
    "import pandas as pd\n",
    "\n",
    "%matplotlib inline"
   ]
  },
  {
   "cell_type": "code",
   "execution_count": 2,
   "metadata": {},
   "outputs": [],
   "source": [
    "import common\n",
    "import em"
   ]
  },
  {
   "cell_type": "code",
   "execution_count": 3,
   "metadata": {},
   "outputs": [
    {
     "name": "stdout",
     "output_type": "stream",
     "text": [
      "[[2. 4. 5. 5. 0.]\n",
      " [3. 5. 0. 4. 3.]\n",
      " [2. 5. 4. 4. 2.]\n",
      " [0. 5. 3. 3. 3.]]\n",
      "[5.93 4.87 3.99 4.51]\n",
      "[0.25 0.25 0.25 0.25]\n"
     ]
    }
   ],
   "source": [
    "X = np.loadtxt('test_incomplete.txt')\n",
    "X_true = np.loadtxt('test_complete.txt')\n",
    "\n",
    "K = 4\n",
    "n, d = X.shape\n",
    "seed = 0\n",
    "\n",
    "mixture, post = common.init(X, K, seed)\n",
    "print(mixture.mu)\n",
    "print(mixture.var)\n",
    "print(mixture.p)"
   ]
  },
  {
   "cell_type": "code",
   "execution_count": 4,
   "metadata": {},
   "outputs": [],
   "source": [
    "mixture, post = common.init(X, K, seed)\n",
    "mixture, post, cost = em.run(X, mixture, post)"
   ]
  },
  {
   "cell_type": "code",
   "execution_count": 5,
   "metadata": {},
   "outputs": [
    {
     "data": {
      "text/plain": [
       "0.3152301205749674"
      ]
     },
     "execution_count": 5,
     "metadata": {},
     "output_type": "execute_result"
    }
   ],
   "source": [
    "X_fill = em.fill_matrix(X, mixture)\n",
    "common.rmse(X_fill, X_true)"
   ]
  },
  {
   "cell_type": "code",
   "execution_count": 6,
   "metadata": {},
   "outputs": [],
   "source": [
    "from surprise import SVD\n",
    "from surprise import Dataset\n",
    "from surprise import Reader\n",
    "from surprise.model_selection import cross_validate"
   ]
  },
  {
   "cell_type": "code",
   "execution_count": 7,
   "metadata": {},
   "outputs": [],
   "source": [
    "# Load the test data set\n",
    "# unstack so that each row has a single review\n",
    "df = pd.read_csv('netflix_incomplete.txt', sep=' ', header=None)\n",
    "df = df.unstack().reset_index()\n",
    "df.columns=['Movie', 'User', 'Rating']\n",
    "df = df[['User', 'Movie', 'Rating']]"
   ]
  },
  {
   "cell_type": "code",
   "execution_count": 8,
   "metadata": {},
   "outputs": [],
   "source": [
    "# split the data set so that train has all nonzero ratings\n",
    "# and test has the rest\n",
    "df_train = df[df['Rating'] != 0]\n",
    "df_test = df[df['Rating'] == 0].copy()"
   ]
  },
  {
   "cell_type": "code",
   "execution_count": 9,
   "metadata": {},
   "outputs": [],
   "source": [
    "# A reader is still needed but only the rating_scale param is requiered.\n",
    "reader = Reader(rating_scale=(1, 5))\n",
    "\n",
    "# The columns must correspond to user id, item id and ratings (in that order).\n",
    "train = Dataset.load_from_df(df_train, reader)"
   ]
  },
  {
   "cell_type": "code",
   "execution_count": 38,
   "metadata": {},
   "outputs": [
    {
     "data": {
      "text/plain": [
       "<surprise.prediction_algorithms.matrix_factorization.SVD at 0x25348dd8438>"
      ]
     },
     "execution_count": 38,
     "metadata": {},
     "output_type": "execute_result"
    }
   ],
   "source": [
    "trainset = train.build_full_trainset()\n",
    "\n",
    "# Build an algorithm, and train it.\n",
    "algo = SVD()\n",
    "algo.fit(trainset)"
   ]
  },
  {
   "cell_type": "code",
   "execution_count": 18,
   "metadata": {},
   "outputs": [],
   "source": [
    "testset = df_test.values\n",
    "pred = algo.test(testset)"
   ]
  },
  {
   "cell_type": "code",
   "execution_count": 19,
   "metadata": {},
   "outputs": [],
   "source": [
    "df_test_pred = pd.DataFrame(pred)\n",
    "df_test_pred = df_test_pred.rename(index=str, columns={'uid':'User', 'iid':'Movie','est':'Rating'})\n",
    "df_test_pred = df_test_pred[['User', 'Movie', 'Rating']]"
   ]
  },
  {
   "cell_type": "code",
   "execution_count": 20,
   "metadata": {},
   "outputs": [
    {
     "data": {
      "text/plain": [
       "0.5031110934478024"
      ]
     },
     "execution_count": 20,
     "metadata": {},
     "output_type": "execute_result"
    }
   ],
   "source": [
    "X_SVD = pd.concat([df_train, df_test_pred]).set_index(['User', 'Movie']).unstack().values\n",
    "X_true = np.loadtxt('netflix_complete.txt')\n",
    "common.rmse(X_SVD, X_true)"
   ]
  },
  {
   "cell_type": "code",
   "execution_count": 36,
   "metadata": {},
   "outputs": [
    {
     "data": {
      "text/plain": [
       "0.5014348232450729"
      ]
     },
     "execution_count": 36,
     "metadata": {},
     "output_type": "execute_result"
    }
   ],
   "source": [
    "pred = algo.test(testset)\n",
    "df_test_pred = pd.DataFrame(pred)\n",
    "df_test_pred = df_test_pred.rename(index=str, columns={'uid':'User', 'iid':'Movie','est':'Rating'})\n",
    "df_test_pred = df_test_pred[['User', 'Movie', 'Rating']]\n",
    "X_SVD = pd.concat([df_train, df_test_pred]).set_index(['User', 'Movie']).unstack().values\n",
    "common.rmse(X_SVD, X_true)"
   ]
  },
  {
   "cell_type": "code",
   "execution_count": 44,
   "metadata": {},
   "outputs": [
    {
     "name": "stdout",
     "output_type": "stream",
     "text": [
      "0.8887194472854804\n",
      "{'n_epochs': 10, 'lr_all': 0.002, 'reg_all': 0.4}\n"
     ]
    }
   ],
   "source": [
    "from surprise.model_selection import GridSearchCV\n",
    "\n",
    "param_grid = {'n_epochs': [5, 10], 'lr_all': [0.002, 0.005],\n",
    "              'reg_all': [0.4, 0.6]}\n",
    "gs = GridSearchCV(SVD, param_grid, measures=['rmse', 'mae'], cv=3, n_jobs=4, refit=True)\n",
    "\n",
    "gs.fit(train)\n",
    "\n",
    "# best RMSE score\n",
    "print(gs.best_score['rmse'])\n",
    "\n",
    "# combination of parameters that gave the best RMSE score\n",
    "print(gs.best_params['rmse'])"
   ]
  },
  {
   "cell_type": "code",
   "execution_count": 45,
   "metadata": {},
   "outputs": [
    {
     "data": {
      "text/plain": [
       "0.4353934182101176"
      ]
     },
     "execution_count": 45,
     "metadata": {},
     "output_type": "execute_result"
    }
   ],
   "source": [
    "pred = gs.test(testset)\n",
    "df_test_pred = pd.DataFrame(pred)\n",
    "df_test_pred = df_test_pred.rename(index=str, columns={'uid':'User', 'iid':'Movie','est':'Rating'})\n",
    "df_test_pred = df_test_pred[['User', 'Movie', 'Rating']]\n",
    "X_SVD = pd.concat([df_train, df_test_pred]).set_index(['User', 'Movie']).unstack().values\n",
    "common.rmse(X_SVD, X_true)"
   ]
  }
 ],
 "metadata": {
  "kernelspec": {
   "display_name": "Python 3",
   "language": "python",
   "name": "python3"
  },
  "language_info": {
   "codemirror_mode": {
    "name": "ipython",
    "version": 3
   },
   "file_extension": ".py",
   "mimetype": "text/x-python",
   "name": "python",
   "nbconvert_exporter": "python",
   "pygments_lexer": "ipython3",
   "version": "3.6.8"
  }
 },
 "nbformat": 4,
 "nbformat_minor": 2
}
