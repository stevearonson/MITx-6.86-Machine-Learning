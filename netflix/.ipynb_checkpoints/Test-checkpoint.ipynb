{
 "cells": [
  {
   "cell_type": "code",
   "execution_count": 1,
   "metadata": {},
   "outputs": [],
   "source": [
    "import numpy as np\n",
    "import matplotlib.pylab as plt\n",
    "import scipy.stats as stat\n",
    "import pandas as pd\n",
    "\n",
    "%matplotlib inline"
   ]
  },
  {
   "cell_type": "code",
   "execution_count": 2,
   "metadata": {},
   "outputs": [],
   "source": [
    "import common\n",
    "import naive_em"
   ]
  },
  {
   "cell_type": "code",
   "execution_count": 3,
   "metadata": {},
   "outputs": [],
   "source": [
    "X = np.loadtxt(\"test_incomplete.txt\")\n",
    "\n",
    "K = 4\n",
    "n, d = X.shape\n",
    "seed = 0\n",
    "\n",
    "mixture, post = common.init(X, K, seed)"
   ]
  },
  {
   "cell_type": "code",
   "execution_count": 4,
   "metadata": {},
   "outputs": [
    {
     "data": {
      "text/plain": [
       "array([[ 0.,  1., -2., -5.,  0.],\n",
       "       [ 1.,  1., -5., -1.,  3.],\n",
       "       [ 0., -4., -2., -2.,  1.],\n",
       "       [ 2., -4., -1.,  0.,  2.],\n",
       "       [ 1.,  0., -5., -5.,  4.],\n",
       "       [-1., -4., -1.,  0.,  5.],\n",
       "       [ 0.,  1., -5., -5.,  1.],\n",
       "       [ 1., -4.,  0., -1.,  3.],\n",
       "       [-2.,  1., -2., -2.,  3.],\n",
       "       [ 0., -4., -5., -2.,  3.],\n",
       "       [ 1.,  0., -2., -2.,  3.],\n",
       "       [-1.,  1., -2., -5.,  1.],\n",
       "       [ 2.,  1., -2., -1.,  3.],\n",
       "       [-1.,  0., -5.,  0.,  2.],\n",
       "       [-1.,  1., -2., -2.,  5.],\n",
       "       [ 1.,  1., -2., -1.,  3.],\n",
       "       [ 1., -4., -5., -1.,  2.],\n",
       "       [ 1.,  1., -2.,  0.,  1.],\n",
       "       [ 0.,  0.,  0.,  0.,  0.],\n",
       "       [ 0.,  1., -1., -1.,  2.]])"
      ]
     },
     "execution_count": 4,
     "metadata": {},
     "output_type": "execute_result"
    }
   ],
   "source": [
    "X - mixture.mu[0]"
   ]
  },
  {
   "cell_type": "code",
   "execution_count": 5,
   "metadata": {},
   "outputs": [],
   "source": [
    "Px = np.exp(-np.linalg.norm(X - mixture.mu[0], axis=1)**2/(2*mixture.var[0]))/(2*np.pi*mixture.var[0])**(d/2)"
   ]
  },
  {
   "cell_type": "code",
   "execution_count": 6,
   "metadata": {},
   "outputs": [
    {
     "data": {
      "text/plain": [
       "array([[11.25, 16.5 , 12.25, 16.  , 11.75],\n",
       "       [11.25, 16.5 , 12.25, 16.  , 11.75],\n",
       "       [11.25, 16.5 , 12.25, 16.  , 11.75],\n",
       "       [11.25, 16.5 , 12.25, 16.  , 11.75]])"
      ]
     },
     "execution_count": 6,
     "metadata": {},
     "output_type": "execute_result"
    }
   ],
   "source": [
    "(post.T @ X) "
   ]
  },
  {
   "cell_type": "code",
   "execution_count": 28,
   "metadata": {},
   "outputs": [
    {
     "data": {
      "text/plain": [
       "array([[2.25, 3.3 , 2.45, 3.2 , 2.35],\n",
       "       [2.25, 3.3 , 2.45, 3.2 , 2.35],\n",
       "       [2.25, 3.3 , 2.45, 3.2 , 2.35],\n",
       "       [2.25, 3.3 , 2.45, 3.2 , 2.35]])"
      ]
     },
     "execution_count": 28,
     "metadata": {},
     "output_type": "execute_result"
    }
   ],
   "source": [
    "(post.T @ X) / np.sum(post, axis=0).reshape(K,1)"
   ]
  },
  {
   "cell_type": "code",
   "execution_count": 38,
   "metadata": {},
   "outputs": [
    {
     "data": {
      "text/plain": [
       "399.0"
      ]
     },
     "execution_count": 38,
     "metadata": {},
     "output_type": "execute_result"
    }
   ],
   "source": [
    "np.sum(np.linalg.norm(X - mixture.mu[2], axis=1)**2)"
   ]
  },
  {
   "cell_type": "code",
   "execution_count": 10,
   "metadata": {},
   "outputs": [],
   "source": [
    "X = np.array([[0.85794562, 0.84725174],\n",
    " [0.6235637,  0.38438171],\n",
    " [0.29753461, 0.05671298],\n",
    " [0.27265629, 0.47766512],\n",
    " [0.81216873, 0.47997717],\n",
    " [0.3927848,  0.83607876],\n",
    " [0.33739616, 0.64817187],\n",
    " [0.36824154, 0.95715516],\n",
    " [0.14035078, 0.87008726],\n",
    " [0.47360805, 0.80091075],\n",
    " [0.52047748, 0.67887953],\n",
    " [0.72063265, 0.58201979],\n",
    " [0.53737323, 0.75861562],\n",
    " [0.10590761, 0.47360042],\n",
    " [0.18633234, 0.73691818]])"
   ]
  },
  {
   "cell_type": "code",
   "execution_count": 11,
   "metadata": {},
   "outputs": [],
   "source": [
    "post = np.array([[0.15765074, 0.20544344, 0.17314824, 0.15652173, 0.12169798, 0.18553787],\n",
    " [0.1094766,  0.22310587, 0.24109142, 0.0959303,  0.19807563, 0.13232018],\n",
    " [0.22679645, 0.36955206, 0.02836173, 0.03478709, 0.00807236, 0.33243031],\n",
    " [0.16670188, 0.18637975, 0.20964608, 0.17120102, 0.09886116, 0.16721011],\n",
    " [0.04250305, 0.22996176, 0.05151538, 0.33947585, 0.18753121, 0.14901275],\n",
    " [0.09799086, 0.28677458, 0.16895715, 0.21054678, 0.0069597,  0.22877093],\n",
    " [0.16764519, 0.16897033, 0.25848053, 0.18674186, 0.09846462, 0.11969746],\n",
    " [0.28655211, 0.02473762, 0.27387452, 0.27546459, 0.08641467, 0.05295649],\n",
    " [0.11353057, 0.13090863, 0.20522811, 0.15786368, 0.35574052, 0.03672849],\n",
    " [0.10510461, 0.08116927, 0.3286373,  0.12745369, 0.23464272, 0.12299241],\n",
    " [0.09757735, 0.06774952, 0.40286261, 0.08481828, 0.1206645,  0.22632773],\n",
    " [0.24899344, 0.02944918, 0.25413459, 0.02914503, 0.29614373, 0.14213403],\n",
    " [0.35350682, 0.21890411, 0.26755234, 0.01418274, 0.10235276, 0.04350123],\n",
    " [0.15555757, 0.06236572, 0.16703133, 0.21760554, 0.03369562, 0.36374421],\n",
    " [0.1917808,  0.08982788, 0.17710673, 0.03179658, 0.19494387, 0.31454414]])"
   ]
  },
  {
   "cell_type": "code",
   "execution_count": 12,
   "metadata": {},
   "outputs": [],
   "source": [
    "K = 6"
   ]
  },
  {
   "cell_type": "code",
   "execution_count": 37,
   "metadata": {},
   "outputs": [],
   "source": [
    "n, d = X.shape\n",
    "K = post.shape[1]\n",
    "\n",
    "nj = np.sum(post, axis=0)\n",
    "pj = nj/n\n",
    "\n",
    "mu = (post.T @ X)/nj.reshape(K,1)\n",
    "\n",
    "var = np.zeros(K)\n",
    "for ix in range(K):\n",
    "    var[ix] = np.sum(post[:,ix] * np.linalg.norm(X - mu[ix,:], axis=1)**2)/(d*nj[ix])"
   ]
  },
  {
   "cell_type": "code",
   "execution_count": 38,
   "metadata": {},
   "outputs": [
    {
     "data": {
      "text/plain": [
       "array([0.05218451, 0.06230449, 0.03538519, 0.05174859, 0.04524244,\n",
       "       0.05831186])"
      ]
     },
     "execution_count": 38,
     "metadata": {},
     "output_type": "execute_result"
    }
   ],
   "source": [
    "var"
   ]
  },
  {
   "cell_type": "code",
   "execution_count": 44,
   "metadata": {},
   "outputs": [
    {
     "data": {
      "text/plain": [
       "-1764.2065253126755"
      ]
     },
     "execution_count": 44,
     "metadata": {},
     "output_type": "execute_result"
    }
   ],
   "source": [
    "-1733.063948 - (6*2 + 6 + 5)/2*np.log(15)"
   ]
  }
 ],
 "metadata": {
  "kernelspec": {
   "display_name": "Python 3",
   "language": "python",
   "name": "python3"
  },
  "language_info": {
   "codemirror_mode": {
    "name": "ipython",
    "version": 3
   },
   "file_extension": ".py",
   "mimetype": "text/x-python",
   "name": "python",
   "nbconvert_exporter": "python",
   "pygments_lexer": "ipython3",
   "version": "3.6.8"
  }
 },
 "nbformat": 4,
 "nbformat_minor": 2
}
